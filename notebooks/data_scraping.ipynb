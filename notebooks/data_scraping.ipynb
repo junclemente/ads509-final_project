{
 "cells": [
  {
   "cell_type": "markdown",
   "id": "a4aff48e",
   "metadata": {},
   "source": [
    "# Data Collection\n",
    "\n",
    "## Articles\n",
    "\n",
    "- [Oklahoma schools rank 50th in the nation in latest education quality study](https://www.oklahoman.com/story/news/education/2025/07/24/oklahoma-schools-ranked-nearly-the-worst-in-the-nation-in-new-study/85310196007/)\n",
    "- [Public School Rankings by State 2025](https://worldpopulationreview.com/state-rankings/public-school-rankings-by-state)\n",
    "- [Worst School Districts by State 2025](https://worldpopulationreview.com/state-rankings/worst-school-districts-by-state)\n",
    "- [2025 Best School Districts in Massachusetts](https://www.niche.com/k12/search/best-school-districts/s/massachusetts/)\n",
    "- [2025 Best School Districts in California](https://www.niche.com/k12/search/best-school-districts/s/california/)\n",
    "\n",
    "### Palo Alto, CA\n",
    "\n",
    "- [Henry M. Gunn High School](https://gunn.pausd.org/)\n",
    "  - [Website](https://gunn.pausd.org/)\n",
    "  - [Niche.com](https://www.niche.com/k12/henry-m-gunn-high-school-palo-alto-ca/)\n",
    "  - [Yelp.com](https://www.yelp.com/biz/henry-m-gunn-high-school-palo-alto-2?osq=henry+m+gunn+high+school)\n",
    "- [Palo Alto Highschool](https://www.paly.net/)\n",
    "  - [Website](https://www.paly.net/)\n",
    "  - [Niche.com](https://www.niche.com/k12/palo-alto-high-school-palo-alto-ca/)\n",
    "  - [Yelp.com](https://www.yelp.com/biz/palo-alto-high-school-palo-alto?osq=palo+alto+high+school)\n",
    "- [Hope Technology School - Private](https://hopetechschool.org/)\n",
    "  - [Website](https://hopetechschool.org/)\n",
    "  - [Yelp.com](https://www.yelp.com/biz/hope-technology-school-palo-alto-6)\n",
    "- [Palo Alto Middle College High School](https://mc.pausd.org/)\n",
    "  - [Website](https://mc.pausd.org/)\n",
    "  - [Yelp.com](https://www.yelp.com/biz/palo-alto-middle-college-high-school-los-altos-hills?osq=middle+college+high+school)\n",
    "\n",
    "### Oklahoma City, OK\n",
    "\n",
    "- [Boulevard Academy](https://boulevardacademy.edmondschools.net/o/boulevardacademy)\n",
    "  - [Website](https://boulevardacademy.edmondschools.net/o/boulevardacademy)\n",
    "- [Memorial High School](https://memorial.edmondschools.net/o/memorial)\n",
    "  - [Website](https://memorial.edmondschools.net/o/memorial)\n",
    "  - [Niche.com](https://www.niche.com/k12/memorial-high-school-edmond-ok/)\n",
    "  - [Yelp.com](https://www.yelp.com/biz/memorial-high-school-tulsa?osq=memorial+high+school)\n",
    "- [North High School](https://north.edmondschools.net/o/north)\n",
    "- [Santa Fe High School](https://santafe.edmondschools.net/o/santafe)\n"
   ]
  },
  {
   "cell_type": "code",
   "execution_count": 2,
   "id": "757a46b1",
   "metadata": {},
   "outputs": [],
   "source": [
    "import pandas as pd\n",
    "import praw"
   ]
  },
  {
   "cell_type": "markdown",
   "id": "4a16a4aa",
   "metadata": {},
   "source": [
    "## Connect to Reddit API"
   ]
  },
  {
   "cell_type": "code",
   "execution_count": 3,
   "id": "69b4cb5b",
   "metadata": {},
   "outputs": [
    {
     "name": "stdout",
     "output_type": "stream",
     "text": [
      "Welcome to r/Education! Please read before posting! 136 b5bbjr https://www.reddit.com/r/education/comments/b5bbjr/welcome_to_reducation_please_read_before_posting/\n",
      "In 2024, average US based teacher made about 73 cents for every dollar earned by a college-educated peer 125 1nrfw6x https://www.reddit.com/r/education/comments/1nrfw6x/in_2024_average_us_based_teacher_made_about_73/\n",
      "In news that should shock literally no one in this sub, a watchdog group has found that administrator pay and student performance are inversely correlated. 106 1nrcd72 https://www.reddit.com/r/education/comments/1nrcd72/in_news_that_should_shock_literally_no_one_in/\n",
      "Grade 9 English/E.Lit sucks... 2 1nrw87b https://www.reddit.com/r/education/comments/1nrw87b/grade_9_englishelit_sucks/\n",
      "Students just don't care anymore about actually learning to write 42 1nr6z12 https://www.reddit.com/r/education/comments/1nr6z12/students_just_dont_care_anymore_about_actually/\n"
     ]
    }
   ],
   "source": [
    "reddit = praw.Reddit(\"default\")\n",
    "\n",
    "subreddit = reddit.subreddit(\"education\")\n",
    "\n",
    "for post in subreddit.hot(limit=5):\n",
    "    print(post.title, post.score, post.id, post.url)"
   ]
  }
 ],
 "metadata": {
  "kernelspec": {
   "display_name": "ads509",
   "language": "python",
   "name": "python3"
  },
  "language_info": {
   "codemirror_mode": {
    "name": "ipython",
    "version": 3
   },
   "file_extension": ".py",
   "mimetype": "text/x-python",
   "name": "python",
   "nbconvert_exporter": "python",
   "pygments_lexer": "ipython3",
   "version": "3.11.13"
  }
 },
 "nbformat": 4,
 "nbformat_minor": 5
}
