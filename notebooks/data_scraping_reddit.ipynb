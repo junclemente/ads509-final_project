{
 "cells": [
  {
   "cell_type": "markdown",
   "id": "a4aff48e",
   "metadata": {},
   "source": [
    "# Data Collection\n",
    "\n",
    "## Articles\n",
    "\n",
    "- [Oklahoma schools rank 50th in the nation in latest education quality study](https://www.oklahoman.com/story/news/education/2025/07/24/oklahoma-schools-ranked-nearly-the-worst-in-the-nation-in-new-study/85310196007/)\n",
    "- [Public School Rankings by State 2025](https://worldpopulationreview.com/state-rankings/public-school-rankings-by-state)\n",
    "- [Worst School Districts by State 2025](https://worldpopulationreview.com/state-rankings/worst-school-districts-by-state)\n",
    "- [2025 Best School Districts in Massachusetts](https://www.niche.com/k12/search/best-school-districts/s/massachusetts/)\n",
    "- [2025 Best School Districts in California](https://www.niche.com/k12/search/best-school-districts/s/california/)\n",
    "\n",
    "### Palo Alto, CA\n",
    "\n",
    "- [Henry M. Gunn High School](https://gunn.pausd.org/)\n",
    "  - [Website](https://gunn.pausd.org/)\n",
    "  - [Niche.com](https://www.niche.com/k12/henry-m-gunn-high-school-palo-alto-ca/)\n",
    "  - [Yelp.com](https://www.yelp.com/biz/henry-m-gunn-high-school-palo-alto-2?osq=henry+m+gunn+high+school)\n",
    "- [Palo Alto Highschool](https://www.paly.net/)\n",
    "  - [Website](https://www.paly.net/)\n",
    "  - [Niche.com](https://www.niche.com/k12/palo-alto-high-school-palo-alto-ca/)\n",
    "  - [Yelp.com](https://www.yelp.com/biz/palo-alto-high-school-palo-alto?osq=palo+alto+high+school)\n",
    "- [Hope Technology School - Private](https://hopetechschool.org/)\n",
    "  - [Website](https://hopetechschool.org/)\n",
    "  - [Yelp.com](https://www.yelp.com/biz/hope-technology-school-palo-alto-6)\n",
    "- [Palo Alto Middle College High School](https://mc.pausd.org/)\n",
    "  - [Website](https://mc.pausd.org/)\n",
    "  - [Yelp.com](https://www.yelp.com/biz/palo-alto-middle-college-high-school-los-altos-hills?osq=middle+college+high+school)\n",
    "\n",
    "### Oklahoma City, OK\n",
    "\n",
    "- [Boulevard Academy](https://boulevardacademy.edmondschools.net/o/boulevardacademy)\n",
    "  - [Website](https://boulevardacademy.edmondschools.net/o/boulevardacademy)\n",
    "- [Memorial High School](https://memorial.edmondschools.net/o/memorial)\n",
    "  - [Website](https://memorial.edmondschools.net/o/memorial)\n",
    "  - [Niche.com](https://www.niche.com/k12/memorial-high-school-edmond-ok/)\n",
    "  - [Yelp.com](https://www.yelp.com/biz/memorial-high-school-tulsa?osq=memorial+high+school)\n",
    "- [North High School](https://north.edmondschools.net/o/north)\n",
    "- [Santa Fe High School](https://santafe.edmondschools.net/o/santafe)\n"
   ]
  },
  {
   "cell_type": "markdown",
   "id": "7a5b82d1",
   "metadata": {},
   "source": [
    "## Import libraries\n"
   ]
  },
  {
   "cell_type": "code",
   "execution_count": 29,
   "id": "757a46b1",
   "metadata": {},
   "outputs": [],
   "source": [
    "import pandas as pd\n",
    "import praw\n",
    "import re\n",
    "import sys\n",
    "import time\n",
    "\n",
    "from datetime import datetime\n",
    "from pathlib import Path"
   ]
  },
  {
   "cell_type": "code",
   "execution_count": 30,
   "id": "bcdd8f96",
   "metadata": {},
   "outputs": [],
   "source": [
    "# set dataset folder location\n",
    "dataset_folder = Path(\"../datasets\")"
   ]
  },
  {
   "cell_type": "markdown",
   "id": "4a16a4aa",
   "metadata": {},
   "source": [
    "## Connect to Reddit API\n",
    "\n",
    "**Note:** Default credentials are stored in the `praw.ini` file. This file must\n",
    "be created for the Reddit API to work. Use the `praw.ini.template` as a\n",
    "reference to create the `praw.ini` file.\n"
   ]
  },
  {
   "cell_type": "code",
   "execution_count": 31,
   "id": "69b4cb5b",
   "metadata": {},
   "outputs": [
    {
     "name": "stdout",
     "output_type": "stream",
     "text": [
      "Authenticated as: None\n"
     ]
    }
   ],
   "source": [
    "# default credentials stored in `praw.ini` file\n",
    "try:\n",
    "\n",
    "    reddit = praw.Reddit(\"default\")\n",
    "    print(f\"Authenticated as: {reddit.user.me()}\")\n",
    "except Exception as e:\n",
    "    print(\"[ERROR] Error initializing Reddit instance.\")\n",
    "    print(\"Check that the `praw.ini` is configured correctly. \")\n",
    "    print(f\"Details: {e}\")\n",
    "    sys.exit(1)\n",
    "\n",
    "# Check for connection\n",
    "# for post in subreddit.hot(limit=5):\n",
    "#     print(post.title, post.score, post.id, post.url)"
   ]
  },
  {
   "cell_type": "markdown",
   "id": "4969e77c",
   "metadata": {},
   "source": [
    "## Reddit Query Functions\n"
   ]
  },
  {
   "cell_type": "code",
   "execution_count": 32,
   "id": "a50689f2",
   "metadata": {},
   "outputs": [],
   "source": [
    "def word_count(s: str) -> int:\n",
    "    return len(re.findall(r\"\\w+\", s or \"\"))\n",
    "\n",
    "\n",
    "def comments_to_corpus(submission, min_score=6, min_words=21, as_tokens=False):\n",
    "    \"\"\"\n",
    "    Extract and filter comments from a Reddit submission.\n",
    "\n",
    "    Iterates through all comments in a submission and keeps only those that meet\n",
    "    both a minimum score threshold and a minimum word count. The resulting comments\n",
    "    are returned either as strings or as tokenized word lists.\n",
    "\n",
    "    Parameters\n",
    "    ----------\n",
    "    submission : praw.models.Submission\n",
    "        Reddit submission object from which to collect comments.\n",
    "    min_score : int, optional, default=6\n",
    "        Minimum upvote score required for a comment to be included.\n",
    "    min_words : int, optional, default=21\n",
    "        Minimum number of words required for a comment to be included.\n",
    "    as_tokens : bool, optional, default=False\n",
    "        If True, each comment is split into a list of words (tokens).\n",
    "        If False, comments are returned as strings.\n",
    "\n",
    "    Returns\n",
    "    -------\n",
    "    list of str or list of list of str\n",
    "        A list of comments that passed the filters. Each comment is a string\n",
    "        if `as_tokens=False`, or a list of tokens if `as_tokens=True`.\n",
    "\n",
    "    Notes\n",
    "    -----\n",
    "    - Comments with `[deleted]` or `[removed]` text are skipped.\n",
    "    - Comments with no body text or missing score are excluded.\n",
    "    - `submission.comments.replace_more(limit=0)` is used to ensure that\n",
    "      all comments are fully loaded before filtering.\n",
    "\n",
    "    Examples\n",
    "    --------\n",
    "    >>> submission = reddit.submission(id=\"abc123\")\n",
    "    >>> comments_to_corpus(submission, min_score=10, min_words=30)\n",
    "    [\"This is a long qualifying comment ...\", \"Another example comment ...\"]\n",
    "\n",
    "    >>> comments_to_corpus(submission, min_score=10, min_words=30, as_tokens=True)\n",
    "    [[\"This\", \"is\", \"a\", \"long\", \"qualifying\", \"comment\", ...],\n",
    "     [\"Another\", \"example\", \"comment\", ...]]\n",
    "    \"\"\"\n",
    "    submission.comments.replace_more(limit=0)\n",
    "    keep = []\n",
    "\n",
    "    for c in submission.comments.list():\n",
    "        body = c.body\n",
    "        if not isinstance(body, str):\n",
    "            continue\n",
    "        body = body.strip()\n",
    "\n",
    "        if body.lower() in (\"[deleted]\", \"[removed]\"):\n",
    "            continue\n",
    "        if c.score is None:\n",
    "            continue\n",
    "\n",
    "        if c.score >= min_score and word_count(body) >= min_words:\n",
    "            keep.append([body])\n",
    "\n",
    "    return keep\n",
    "\n",
    "\n",
    "def build_df_for_query(\n",
    "    subreddit_name: str,\n",
    "    query: str,\n",
    "    limit=20,\n",
    "    sort=\"relevance\",\n",
    "    time_filter=\"all\",\n",
    "    min_score=6,\n",
    "    min_words=21,\n",
    "    as_tokens=False,\n",
    "):\n",
    "    \"\"\"\n",
    "    Query Reddit submissions and build a DataFrame of post titles and filtered comments.\n",
    "\n",
    "    This function searches a specified subreddit for submissions matching a query\n",
    "    and collects comments from each submission that meet the given thresholds\n",
    "    (minimum score and minimum word count). The collected comments can be returned\n",
    "    either as raw strings or as tokenized word lists. The result is a DataFrame\n",
    "    where each row corresponds to one submission.\n",
    "\n",
    "    Parameters\n",
    "    ----------\n",
    "    subreddit_name : str\n",
    "        Name of the subreddit to search (without the \"r/\").\n",
    "    query : str\n",
    "        Search query string to use within the subreddit.\n",
    "    limit : int, optional, default=20\n",
    "        Maximum number of submissions to retrieve.\n",
    "    sort : {\"relevance\", \"hot\", \"top\", \"new\", \"comments\"}, optional, default=\"relevance\"\n",
    "        Sorting method for the search results.\n",
    "    time_filter : {\"all\", \"day\", \"hour\", \"month\", \"week\", \"year\"}, optional, default=\"all\"\n",
    "        Restrict search results to a specific time window.\n",
    "    min_score : int, optional, default=6\n",
    "        Minimum upvote score required for a comment to be included.\n",
    "    min_words : int, optional, default=21\n",
    "        Minimum number of words required for a comment to be included.\n",
    "    as_tokens : bool, optional, default=False\n",
    "        If True, each comment is split into a list of words (tokens).\n",
    "        If False, comments are kept as strings.\n",
    "\n",
    "    Returns\n",
    "    -------\n",
    "    pandas.DataFrame\n",
    "        DataFrame with one row per submission and the following columns:\n",
    "\n",
    "        - ``source`` : str\n",
    "            Constant value \"reddit\".\n",
    "        - ``query`` : str\n",
    "            The original search query string.\n",
    "        - ``topic`` : str\n",
    "            Title of the submission.\n",
    "        - ``corpus`` : list of str or list of list of str\n",
    "            List of comments that passed the filters, either as strings or\n",
    "            token lists depending on `as_tokens`.\n",
    "\n",
    "    Notes\n",
    "    -----\n",
    "    - Deleted or removed comments are excluded.\n",
    "    - Submissions without qualifying comments are skipped.\n",
    "    - Be mindful of Reddit API rate limits; the function sleeps briefly\n",
    "      after encountering exceptions to remain polite to the API.\n",
    "\n",
    "    Examples\n",
    "    --------\n",
    "    >>> df = build_df_for_query(\"AskReddit\", \"school homework\", limit=5)\n",
    "    >>> df[[\"topic\", \"corpus\"]].head()\n",
    "    \"\"\"\n",
    "    rows = []\n",
    "    sr = reddit.subreddit(subreddit_name)\n",
    "\n",
    "    for subm in sr.search(query, sort=sort, time_filter=time_filter, limit=limit):\n",
    "        try:\n",
    "            corpus = comments_to_corpus(\n",
    "                subm, min_score=min_score, min_words=min_words, as_tokens=as_tokens\n",
    "            )\n",
    "\n",
    "            # keep only if corpus is non-empty (handles list[str] and list[list[str]])\n",
    "            has_text = False\n",
    "            if isinstance(corpus, list):\n",
    "                if len(corpus) > 0:\n",
    "                    if all(isinstance(c, list) for c in corpus):  # list of token lists\n",
    "                        has_text = any(len(c) > 0 for c in corpus)\n",
    "                    else:  # list of strings\n",
    "                        has_text = any(isinstance(c, str) and c.strip() for c in corpus)\n",
    "\n",
    "            if has_text:\n",
    "                rows.append(\n",
    "                    {\n",
    "                        # \"source\": \"reddit\",\n",
    "                        \"query\": query,\n",
    "                        \"topic\": (subm.title or \"\").strip(),\n",
    "                        \"corpus\": corpus,\n",
    "                    }\n",
    "                )\n",
    "\n",
    "        except Exception as e:\n",
    "            print(f\"[warn] {subm.id}: {e}\")\n",
    "            time.sleep(0.2)  # be polite to the API\n",
    "\n",
    "    return pd.DataFrame(rows)"
   ]
  },
  {
   "cell_type": "markdown",
   "id": "c2628743",
   "metadata": {},
   "source": [
    "### Variables for Reddit Query\n"
   ]
  },
  {
   "cell_type": "code",
   "execution_count": 33,
   "id": "21ac4a70",
   "metadata": {},
   "outputs": [],
   "source": [
    "MIN_WORD = 10  # default = 6\n",
    "MIN_SCORE = 5  # default = 21\n",
    "LIMIT = 150  # default = 20\n",
    "\n",
    "subreddit_var = \"paloalto\"\n",
    "query = \"palo alto unified school district high school\""
   ]
  },
  {
   "cell_type": "code",
   "execution_count": 34,
   "id": "7bc82e9e",
   "metadata": {},
   "outputs": [
    {
     "name": "stdout",
     "output_type": "stream",
     "text": [
      "(91, 3)\n"
     ]
    },
    {
     "data": {
      "application/vnd.microsoft.datawrangler.viewer.v0+json": {
       "columns": [
        {
         "name": "index",
         "rawType": "int64",
         "type": "integer"
        },
        {
         "name": "query",
         "rawType": "object",
         "type": "string"
        },
        {
         "name": "topic",
         "rawType": "object",
         "type": "string"
        },
        {
         "name": "corpus",
         "rawType": "object",
         "type": "unknown"
        }
       ],
       "ref": "b71bbf9e-1bc5-4623-8b81-00839be495aa",
       "rows": [
        [
         "0",
         "palo alto unified school district high school",
         "Palo Alto high school (or Paly)",
         "[['current paly student here! paly is pretty safe, yeah some kids do drugs and drink but it\\'s mainly off campus and the worst it gets is vaping in the bathrooms from what I hear, but I\\'ve never personally witnessed much of it myself. there are of course always weirdos and stalkers, but they\\'re pretty rare so you shouldn\\'t be too concerned about your safety.\\n\\nsocially, paly is very focused on academics. of course, not everyone is, but the majority of students are going to care more about their schoolwork/specialization (journalism, sports, etc) than almost everything else. the lack of school spirit is actually impressive, no one really shows up to events like performances or sports games, other than major football games and theatre performances. the culture here is very cutthroat, it\\'s very competetive, and due to the nature of being in a pressure cooker school where everyone\\'s fighting to get into good schools its very easy to feel isolated and that relations are lacking. it\\'s also very cliquey, whether people here will admit it or not. it\\'s hard to notice but in my opinion, most friend groups here are echo chambers. not neccesarily a bad thing, but also means it\\'s extra important to find yourself with a good group of people because it can feel extremely hard trying to restart your social life here. there\\'s so many people at paly but in a way it makes it feel even easier to become a loner. the best way to make friends outside of class is to join some type of extracurricular (robotics, theatre, sports, journalism, etc) or a club! the school programs here are very highly regarded and 99% of clubs will be very welcoming and excited to have new people.\\n\\nacademics here are tough, comparable to private school. there will always be someone better than you, this is a fact. honestly, don\\'t beat yourself up over it, don\\'t stress too hard, the average paly student is smarter than 95% of the country. there\\'s alot of talk about mental health, it\\'s really normalized here to be depressed and ignore it but please, do take care of yourself. lets be so fr getting a B or even a C on the test isn\\'t the end of the world, everything in life is temporary.\\n\\nside note - lunch time\\npaly is across the street from town and country which is basically just a shopping center, and we have an open campus policy which basically means if you\\'re not in class, technically you\\'re allowed to leave whenever you want to go buy food or just chill. maybe you\\'ve realized by now but Palo alto is fucking expensive. average lunch there is gonna be at least $12. budget wisely if you are given money and try not to go broke! and also try not to be tardy, if you\\'re tardy enough they make you go to \"tardy intervention\" which from what I hear is just them lecturing at you for an hour straight to be better\\n\\nfor advice, honestly I\\'d say as a freshman just focus on finding community. freshman classes are easy as fuck, especially with the fact they\\'re removing bioH as an option, the only class that most people could find challenging would be geoH, which in my opinion is very doable--but I\\'m also the kid who doesn\\'t study and get good grades so maybe don\\'t listen to me about that part lol. but seriously, don\\'t stress, and just take your time adjusting. there are 2 different middle schools that feed into paly + there\\'s usually some private school kids and we\\'re all pretty used to immigrants and meeting new people, so don\\'t be scared\\n\\nI can\\'t think of anything else to add, but lmk if you have questions! \\nthere\\'s also a paly discord server if you\\'re interested, but that server is currently a mess and I cannot in good concious tell you to join it (even though that\\'s where I found this from lol) but if you\\'re interested I\\'ll drop/dm a link'], ['It is a school where extremely nerdy kids who care a lot about doing well in school make up a significant part of the class. \\n\\nAt the same time there is a thriving performing arts program and the art studios and athletic departments have great well funded facilities.\\n\\nSo, if you DON’T want to min/max school you will be happy. If you intend to min/max school be prepared for an incredibly competitive environment. I’m talking about kids who get 1580 on the SAT and consider themselves average.\\n\\nBy the way, going to Paly DECREASES you chances of getting into many colleges because it is so much harder to stand out.'], ['Very safe.  More sporty than Gunn.  Certain cliques have tons of academic pressure to thrive.  Important to have good balance to avoid burnout'], ['lol is it safe? Yes it’s safe. Lots of hella rich kids and pressure to succeed at a high level. Decent at sports, namely football and basketball but sometimes baseball too. Jeremy Lin (nba basketballer) and joc pederson (mlb) both went there. So did James Franco for whatever that’s worth. \\n\\nHas good arts and theatre, I stayed doing that when I went there. They have a glass blowing studio!! \\n\\nAlso has a history of suicides often from parents putting too much pressure on theirs kids. If you have chill parents it can be a good time, if you are going to be pressured to go to an Ivy League or else be prepared for 4 years of stress. It ranks as one of the best public schools in California year after year, and despite two friends killing themselves while there I had mostly a good time'], ['Richer and more old money than Gunn. A bit more of a party school. Good sports. Great school'], ['It depends on what you mean by safe. There is virtually no crime in that area but the suicide rate is genuinely terrifying.'], ['The main “safety” issue is the amount of pressure kids feel to be perfect academically. It is competitive to an unhealthy level.'], ['Paly is what you make of it! I see in your other replies that your not from the US so if I were you I’d sit down and figure out what your post-HS plans are because it can help guide what you do at Paly (ie min/maxing your schedule as others have said). Definitely join a sport! I’d also recommend doing journalism as it’s REALLY big at Paly and it’s one thing I regret not doing. There’s also a lot of small clubs on campus so I’d explore those as well. Hope you’re able to find a good friend group! As others have said Paly is very cliquey but also surprisingly easy to make friends if you’re outgoing. Class of ‘19 ✌🏾'], ['Devante Adam’s. NFL wide receiver also went to paly'], ['Hii :)) i’m turkish but i used to live in the netherlands before i came here. i used to go to badminton before i came here so i might do that again. Thanks :D'], ['That was at Cubberly, which is no longer a high school'], ['Joan Baez and Jim Harbaugh among many others. Kinda a star studded school. Check out the list [on Wikipedia!](https://en.m.wikipedia.org/wiki/Palo_Alto_High_School) and don’t forget the Warlocks played a show at paly before going on to change their band name to The Grateful Dead!! \\n\\nAlso I went there, that’s right the u/win-objective went to paly'], ['Agree. I don’t know how it’s racist to say that an Asian student “interested” in comp sci and having a high GPA with little to no other interesting extracurriculars is a dime a dozen in the Bay Area 🤷🏾\\u200d♀️. A lot of students aren’t getting into the UCs when it used to be a guarantee and they’re not blaming it on their race…'], ['First off, don’t 😒. MLK is way more than that one speech. Ppl love to use it to whitewash him but he was a radical thinker and there was a reason J. Edgar Hoover was obsessed with him and had the FBI monitor him for years. \\n\\nSecondly, the content of our character or what makes us who we are some may argue is impacted by our race. To argue otherwise is kind of null in an extremely race conscious society. So yes we should be grateful admissions take into account how our race, as well as socioeconomic status, zip code, school, gender, etc, makeup who we are and our application.']]"
        ],
        [
         "1",
         "palo alto unified school district high school",
         "supporting the family of Ash who our Palo Alto High School community tragically lost last week",
         "[['This family is grieving, and if you have nothing nice to say, say nothing. No one here knows their story and family dynamics. Be kind.'], [\"Thank you so much for posting this, I have donated. Just a note that I believe ash's pronouns are they/them, not his. It's incredibly tragic and my heart breaks for the family. Remembering all the experiences I have been privileged to get to enjoy after 10th grade and a whole life I have lived, it's almost incomprehensible to imagine that this poor kid has passed away so young.\"], [\"Oh thanks for that info. I didn't create the GoFundMe. Just sharing it.\"], ['Jesus christ. What an insensitive comment and a worthless take. You are in *no* position to say that. You didn’t lose a child, and you are not privy to the facts and circumstances that led to this. Lead with kindness, understanding, compassion, and empathy, not insults and denigrating the family that is dealing with an immeasurable loss. You have absolutely no right to say that because you aren’t in that family, you aren’t affected by this, you are as removed from this as any of us are. Really didn’t expect to see this here, and, frankly I’m both disappointed and deeply saddened to see this posted here. What a sorely callous comment to make. Incredible.'], [\"$30k is a large goal but the fundraiser has been updated to note that some of the funds will also be used to support youth mental health in addition to creating a memorial of kind to the victim. \\n\\nAnd also- you can read the post and just NOT DONATE.  I usually donate money to a certain cause I'm passionate about but I didn't know this victim.  I'm sure people who knew them want to do something in their memory. If you don't want to just keep scrolling\"], [\"No one is requiring you to donate. You can just keep scrolling. The reality is that the community is affected when a sophomore in high school steps in front of an Express train in front of a bunch of other kids, and it's a normal human impulse to want to show support to the family.\"], ['The child was bullied at Paly. \\n\\nAsk the principal what they are doing about bullying at Paly'], ['Idk having grown up and had 5 people do this in one year in high school in 2010, including the girl I wanted to take to homecoming… I just don’t think that’s accurate. After I read Malcolm Gladwell’s the Tipping Point I was able to make some sense of it. In Tipping Point, he describes a suicide epidemic in Micronesia that basically exists because it becomes a social norm. This is and has been, unfortunately, a social norm. One that also affects adults I have known who don’t have intense parents. 3/5 people who killed themselves in that one year did not have academic pressure from their parents like you’re saying.'], ['Says the person crying for a bodyguard because people spit at you during pickleball…'], ['Having 5 people I know kill themselves when I was 17 back in 2010 taught me a lot of resilience'], ['I think they meant because you put May “his” memory rather then May “their” memory in your post'], ['I have not seen this reported.  Please say more.\\n\\nI was relentlessly bullied in the PAUSD and the school did basically nothing.  Ended up going to a private school and it changed my life dramatically - academically and otherwise.  If that was a factor here, people need to hold their feet to the fire.'], ['if the admin bullied them about their pronouns, or ignored equity and inclusion. otherwise, your comment is part of the problem. the only thing wrong with public education is the knee-capping the republican party has been attempting for decades.'], ['There was a post on NextDoor by a student that you knew them about the bullying at Paly. The Asian student was bullied at Paly by Paly students. I don’t know what they were bullied about.\\n\\nAnother student spoke at Board meeting about Asian bullying at Paly - separate incident \\n\\nI am so sorry you were bullied. My child in PAUSD has been bullied and the district did nothing\\n\\nBrent Kline is a bully. He is racist and sexist\\n\\nIt is disgusting what he said at the last Board meeting - speaking about an Asian students suicide and the pressuring the Asian woman on the school Baord. She represents many Asian families.'], ['“Thank you so much. I’m looking for someone to prevent opponents from spitting on me and becoming verbally abusive. Also, to call the cops when people are actively taking drugs in the event.” You need to learn some resilience girl!!!! 🤣🤣🤣']]"
        ],
        [
         "2",
         "palo alto unified school district high school",
         "Why is it so hard to find a decent high-end apartment in Palo Alto to rent?",
         "[['Had similar issues years back, they literally go within 15min of listing. I recall when I finally snagged one seeing the listing within minutes around 10am. Calling to schedule a viewing asap as I’m already driving to the apartment. At the apartment doing a tour by 10:15. By 10:20 told them I want it take the listing down as I’m filling out the application on the spot and writing a deposit check.'], ['have you tried just visiting the places you want to see? Apartments often have staff.'], ['Beware, there are a ton of scam postings on Zillow and Craig list specifically in Palo Alto.'], ['I live in an amazing 1-bed apartment in Palo Alto. It even has a private fenced-in backyard! Rent is only $3k\\n\\nI will be vacating in Sep/Oct timeframe if you are interested in applying for this apartment. DM me if you’re interested!'], ['Usually Zillow ads have phone numbers.  Call them during business hours, ask if it\\'s still available as an opener.\\n\\n\\nDon\\'t flaunt or talk about money or \"high end\" when they discuss with you or when you send messages, you sound like a scammer.'], ['The secret is to live in Mountain View off of San Antonio.\\n\\n/thread'], ['Why are you only looking in Palo Alto? If you don’t have children attending local schools, then it seems silly to restrict yourself to Palo Alto. Have you looked at downtown Redwood City?'], ['I hate to tell you but your budget isn’t high end for Palo Alto.']]"
        ],
        [
         "3",
         "palo alto unified school district high school",
         "Congressman slams Palo Alto school district over honors biology",
         "[['The country is on fire. Surely Rep Khanna has something better to do with his time.'], ['What business does Khanna have in commenting on a single curricular decision in a school district in which he neither lives nor represents?  I’m very sure there are issues in DC (and in San Jose) for which his time would be more appropriately spent.'], ['They had 2 biology courses in the 90s/00s, but no Honors. They had regular biology 1 and Advanced biology 1A.'], ['I love how the board claims that they\\'re not \"De-laning\" but the comments explain that, surprise, the school is de-laning anyway. Must be fun to spend all that time at the board thinking your opinion matters.'], ['See my comment above. Dumbing down standards for the Media and education and alienating the center voters is exactly why we have Trump.'], ['Thank you for pointing that out! Khanna found an attractive target in a prominent school district outside his legislative district and is vastly oversimplifying the issue. As a parent of two PAUSD kids it’s crazy to think that there isn’t enough attention, support, or academic options for the most high-achieving kids.'], ['They had AC in 2008. I took it. Bio 1, Bio1A, and BioAC. I had Ms Morgan. It was a solid class.'], ['I can’t even tell what you’re referring to here lol']]"
        ],
        [
         "4",
         "palo alto unified school district high school",
         "Palo Alto School Board - We need a change, and it's coming either way",
         "[[\"I'm a single issue voter here for pro gifted education. Do you know where the candidates stand on that?\"], ['None of this really said what the JAR people are for, kinda only spoke of the shortcomings of the others. How will they improve this perceived problem?'], ['Rowena Chiu, Josh Salcman and Alison Ramhi are the team.\\n\\nGet politicians and their friends off the board. I will happily help them find roles in the Democratic Party.  Parents who listen to parent and student feedback need to be on the Board.  Parents who are able to interact with parents should be on the Board.\\n\\nPlease listen to the families fighting during this election to get a Board elected.'], ['This post is spot-on and OP clearly knows what she’s talking about. If you read Austin’s superintendent email today with this as context it sounds like a guy who is ready to leave and blame the “culture” (which he laments and yet takes no responsibility for even after years of leading the organization). He is a completely ineffective leader and objectively terrible communicator and he needs to go.'], ['Look for where the candidates stance on “differentiation”. This means they support curriculum that is differentiated in response to where the child is at/whatever they are ready for (gifted or behind ). Right now PAUSD is highly against differentiation and has moved even further away from gifted support during the pandemic so that now in middle school-they force nearly all kids to take exactly the same classes per grade regardless of actual readiness (easily measured by standardized simple tests PAUSD refuses to use) So those for change away from current leadership are also likely to be more for differentiation/pro gifted.'], ['This is a big issue.  Chris and Nicole want to get rid of or reduce advanced classes in the name of mental health and equity.  This is the current board majority position as well.  \\nThe only person on the board right now that dissents from this perspective is Shana Segal (whose term extends for another 2 years).  Each JAR candidate has consistently supported advanced classes, including offering multivariable calculus during the bell schedule.  So if JAR is elected 4/5 board members will support advanced classes and academic acceleration for gifted students.'], ['The best way to differentiate JAR from Nicole and Chris is that JAR believe in equality of opportunity vs. equality of outcome.  Kids that need help get it and kids that need challenge can be challenged.  They also have a holistic approach to mental health and understand that there is more to mental health than getting rid of advanced classes and choice. \\n JAR is also way more open to changing the culture of PAUSD including replacing Don Austin (the superintendent) if needed. \\nDon has clearly read Machiavelli and applies it to his leadership style and treatment of teachers, parents and sometimes even students.'], [\"The JAR donations are primarily a lot of smaller donations from people in the local community, especially Rowena's donations. Nicole has received larger donations from a few key supporters and people outside of the bay area. \\nThere was a Nextdoor post about this earlier today that has more details on the contributions. \\nhttps://nextdoor.com/p/RX_8xCPk42bx?utm_source=share&slp=&share_platform=10&extras=Njk5ODcxOA%3D%3D&utm_campaign=1730522003690\"], [\"That update was really strange.  All the coded messaging and self pity.  So thin skinned.  After creating this culture with a bold and bullying style, he seems surprised that people have risen up in anger and frustration.  The Board enabled him, he acted under their direction.  They inspired this.  No, this is not the culture we want in our school governance.  He's right.  It's a pretty stark choice in my mind.  More of the same?  Vote non-JAR.  Change?  Vote JAR.\"], ['He was unfriendly at a parent meeting he attended at Hoover. He is against math changes families are looking for. I will not vote for him.'], [\"We are down leveling the curriculum and getting rid of the option to take more challenging classes for the sake of equity.  \\nAt the same time the school district is not serving kids with special needs (as required by state law), so these parents wind up suing the school district so they can take the settlement money and send their kids to private programs that will help their kids.  \\nThe same thing is happening with kids that are more advanced.  The school district wants them to go to private school rather than serve their needs.  Here is a YouTube of one board member saying this (this board member supports Chris and Nicole).  \\nhttps://www.youtube.com/live/WP42LVwFITA?feature=shared\\nSo, you are paying a lot of money to live in Palo Alto, but unless your kids are right in the middle of the bell curve, you will find that PAUSD will not serve their needs (if it continues on its current trajectory).  \\nPlus, if you have any issues, expect to be bullied by the administration. \\nWe have so much money as a school district we should be able to serve all or many children's needs.  \\nI have not touched on the issues with the teachers (we are going to lose the best because of Don Austin's authoritarian management style) or mental health (we have not really solved the problems we had in the mid 2010s, it has just been reduced some). \\nSo you have the choice of a 1) a leader of the #metoo movement with advanced degrees and experience taking on authority 2) a Harvard educated lawyer with extensive experience representing people who are at a disadvantage 3) a startup founder with a child that has a learning disability \\nOr 4) an Apprentice contestant that has done some volunteer work and is using the board to jump start a political career 5) a retired Google Engineering Manager. \\nAs a kicker 1-3 have been vocal about the need for change while 4-5 are in favor of the status quo.\"], ['The actual problem hundreds of dissatisfied parents have encountered is that if your family have a concern that rises to the level of the superintendent’s administration: you will be stonewalled and gaslighted as my family has been on multiple fronts: including special education, class placement, school choice and many other issues that are publicly discoverable: lawsuits have unfortunately had to be filed in these kinds of cases and others by dozens of parents and the parents won those lawsuits. PAUSD is known by education consultants of many sorts as a very difficult and problematic district to achieve change or address concerns. PAUSD often do not even follow the law. Dissent is not allowed by the administration level-so teachers will avoid difficult topics.  PAUSD leadership creates unnecessary adversarial attitudes towards parents and gaslights families into thinking they are the only ones who complained. They manipulate data to match their agenda and hope families aren’t paying attention. It really goes on and on.   We left the school district at great cost to our family and it’s so much better outside PAUSD. I vote for change starting at the top.'], ['Flat out lie. Who do you think the union is made up of?'], ['You stated no teachers voted on the endorsements. You stated union leadership voted on the endorsements. Union leadership is made up of teachers. Therefore, your first statement is wrong.'], ['This is the common complaint the candidates who were not endorsed by the teachers union and their supporters keep making.  Sounds like sour grapes.']]"
        ],
        [
         "5",
         "palo alto unified school district high school",
         "East Palo Alto Schools",
         "[['Im from EPA grew up in the 90s\\nBrings a smile to my face to see how much  positive change there has been in my city']]"
        ],
        [
         "6",
         "palo alto unified school district high school",
         "Best Palo Alto elementary schools vs Los Altos",
         "[[\"PAUSD elementary schools haven't declined, they've only gotten better over the years. I'm biased as I went to Palo Verde, JLS, and Paly but PAUSD is still one of the top public districts in CA and the entire country. There are multiple ranking sites you can check out to verify this. \\n\\nEvery school will have better/worse teachers but for the most part they're all the same. Firmly believe it's more of a function of your kids' home environment and peers they chose to surround themselves with. The pressure cooker environment (fairly overblown imo) again is a function of their home life, parenting, and peers than it is the school itself. If you continuously push your child to the limit to go Ivy League or bust then yes they'll be put innately into a pressure cooker environment.\"], ['Maybe it has changed, but Ohlone is definitely not a pressure cooker environment.'], [\"As a recent-ish elementary school parent we started our kids at Hoover. That was a pressure cooker for sure. One of my children had 1st year teachers for 4 years in a row there that were all let go at the end of the school year because parents didn't think that there was enough education/homework happening. We ended up leaving for Ohlone which was more our pace. It might have changed now that my kids are in middle and high school.\"], ['Lol there is absolutely not a pressure cooker environment at the elementary schools. Honestly even at the high school level, most of the pressure comes from the parents rather than the schools themselves. \\n\\nThe elementarys are all great, you can’t go wrong so just get the house you want and don’t think about it too much. Escondido and Ohlone have some cool alternative programs you can apply for if you’re interested. \\n\\nMy source is I went through PAUSD myself and am now a PA parent.'], ['We’ve been having a good experience with our elementary school and it seems similar with the other elementary schools within PAUSD. Now that I have a kid in middle school I’m starting sense the pressure. It comes from the peers, not from the school.'], ['If you stay in PAUSD then they will end up in Gunn or Paly so may not be great if you\\'re worried about \"pressure cooker\" although usually it\\'s mostly the crazy helicopter parents not the schools doing the pressuring'], ['Yeah, the issue is that one is a lottery one so no one can guarantee your spot there unfortunately, otherwise it would probably be my first choice.'], ['Ohlone is certainly not a pressure-cooker environment, by design:\\n\\n No grades  \\n No bells  \\n Socio-emotional curriculum focus  \\n Two-year class cohorts in an attempt to foster deep friendships'], [\"I've heard similar recent issues with AP math classes, however way back when I attended (\\\\~15 years ago) it didn't seem to be an issue. 99% of the student population were able to get their advanced curriculum needs through the offered APs. The select few who couldn't would attend math classes across the street at Stanford. Unless your child is a math or comp sci savant I don't foresee them having any issues. Again my info may be outdated and this is affecting such a small percentile of students, but I personally don't see it as a major issue. There seems to be alternative routes to achieving an advanced education at such a young age if necessary. For the most part I don't see the issue with waiting until college to achieve the desired advanced curriculum.\\n\\nI  felt like a whole child approach was used for my schooling, again the methodology may have changed since i've been in school but I felt supported in every step along the way. Again it really depends on your child and how much help you ask for/require. Extra curriculars are usually where most of the supplemental learning comes from, at least in my case.\"]]"
        ],
        [
         "7",
         "palo alto unified school district high school",
         "What’s happening with parking along El Camino Real between Stanford and Palo Alto High School?",
         "[['[https://www.cityofpaloalto.org/Departments/Transportation/Transportation-Projects/Caltrans-El-Camino-Real-Pavement-Improvements-Project](https://www.cityofpaloalto.org/Departments/Transportation/Transportation-Projects/Caltrans-El-Camino-Real-Pavement-Improvements-Project)\\n\\nCaltrans began the paving process the week of\\xa0August 19, 2024 by replacing deteriorated areas of roadway.\\xa0Starting the week of September 9, Caltrans crews and contractors initiated paving operations for the SR-82 Rehabilitation Project, and completed the initial paving process on November 19. Caltrans crews will stripe lanes beginning November 25, and will continue until the end of February 2025. Striping will take place in both northbound and southbound directions.\\xa0**Vehicles\\xa0are not permitted to park on El Camino Real in Palo Alto (Sand Hill Road to San Antonio Avenue).**\\xa0**\"**No Parking” signs are placed along the project corridor to notify vehicles of parking restrictions.'], ['I think they didn’t like all the campers parked there?'], ['not gonna lie, when I first got here that was an eye sore with all the campers'], ['Wonder why they’re paying attention to this now? It’s been an issue for 20+ years.'], [\"Another reason is that it's an eye sore and looks trashy as hell\"]]"
        ],
        [
         "8",
         "palo alto unified school district high school",
         "Math Policies At Palo Alto Schools",
         "[['May I know what’s the controversy in first place?'], ['I think it will be a biased sample since people who don’t think the issue is important won’t fill it out. Noisy minority and all that.'], ['May I ask, do you have a point of view on  PAUSD’s math controversies that you’re seeking to support with the results of this poll? That’s perfectly valid, I’m just curious what is motivating this poll.'], [\"A few years ago, Palo Alto was steeped in a miserable, heart-wrenching suicide cluster. The CDC led a study, including a committee of community members, you can get a link to their report [here](https://www.paloaltoonline.com/news/2017/03/03/cdc-releases-final-youth-suicide-report/).  \\n\\nSince that time, Palo Alto schools have made policy and hiring decisions that, almost always, seek to dial back academic pressure on students. My kids were in public school here during the cluster, so I happen to agree with these decisions. Other families who weren't might disagree, thinking that their ninth grader *deserves* an opportunity to study advanced placement calculus as a freshman.  \\n\\nI can understand their point.. And I know correlation is not causation. But perhaps what's best for an academically gifted student who's a generational math talent shouldn't be the student that a *public school* is optimizing their academic policies towards. Perhaps a public school should consider a broader set of factors.\"], ['I bought a house in this district because I thought I could trust the administration to make the best choice for the children. 2 years into it - wow, was I mistaken. Talking to teachers over the time plus a little googling about Don Austin, and now I don’t trust the board (except for 1 member) or the administration - at all. What a sad situation. I have no idea what math programs should be like - I’m not an educator!! - I’m so annoyed. I don’t know how to educate myself on this…and I shouldn’t have to!!!'], ['You’re gauging sentiment but this sounds like a very leading summary']]"
        ],
        [
         "9",
         "palo alto unified school district high school",
         "How can my kids attend Palo Alto high school",
         "[['That address would generally qualify for Palo Alto High, yes.'], ['Yup-most likely it would be in the zone (check per other responses to be sure). You have to officially verify and register by contacting the school district and proving you and the kids live full time in Palo Alto but renting is the same as owning. In fact, over 40% of families in the school district are renters.  Note that they really check if you live here and have these intense investigator people if there are doubts who will -no joke-run surveillance to confirm the kids sleep on school nights at the address provided. We had that happen one year when a grumpy landlord “reported” us for moving out of district. (We moved out of her rental house to another one much closer to the school so the kids could walk. We still were in district so it was quickly resolved when we were able to prove our new address -but thats how I know these specifics are really live checked). Yes you can rent and come to PAUSD schools. You don’t have to own to go here. (we are leaving the school district because we don’t like the senior leadership and its impact on our kids but thats a whole other topic)'], ['God forbid a parent wants their children to attend one of the best public schools in the state!'], ['Sure. The current board and administration is highly antagonistic to any parents that express concerns ( and many concerns have been articulated recently over things like the treatment of special education students and forcing all kids into a single math level in middle school-both have led to lawsuits between parents and administrator/the district). https://padailypost.com/2023/03/25/lawsuit-sparks-debate-over-placement-of-math-students-in-palo-alto-schools/']]"
        ]
       ],
       "shape": {
        "columns": 3,
        "rows": 10
       }
      },
      "text/html": [
       "<div>\n",
       "<style scoped>\n",
       "    .dataframe tbody tr th:only-of-type {\n",
       "        vertical-align: middle;\n",
       "    }\n",
       "\n",
       "    .dataframe tbody tr th {\n",
       "        vertical-align: top;\n",
       "    }\n",
       "\n",
       "    .dataframe thead th {\n",
       "        text-align: right;\n",
       "    }\n",
       "</style>\n",
       "<table border=\"1\" class=\"dataframe\">\n",
       "  <thead>\n",
       "    <tr style=\"text-align: right;\">\n",
       "      <th></th>\n",
       "      <th>query</th>\n",
       "      <th>topic</th>\n",
       "      <th>corpus</th>\n",
       "    </tr>\n",
       "  </thead>\n",
       "  <tbody>\n",
       "    <tr>\n",
       "      <th>0</th>\n",
       "      <td>palo alto unified school district high school</td>\n",
       "      <td>Palo Alto high school (or Paly)</td>\n",
       "      <td>[[current paly student here! paly is pretty sa...</td>\n",
       "    </tr>\n",
       "    <tr>\n",
       "      <th>1</th>\n",
       "      <td>palo alto unified school district high school</td>\n",
       "      <td>supporting the family of Ash who our Palo Alto...</td>\n",
       "      <td>[[This family is grieving, and if you have not...</td>\n",
       "    </tr>\n",
       "    <tr>\n",
       "      <th>2</th>\n",
       "      <td>palo alto unified school district high school</td>\n",
       "      <td>Why is it so hard to find a decent high-end ap...</td>\n",
       "      <td>[[Had similar issues years back, they literall...</td>\n",
       "    </tr>\n",
       "    <tr>\n",
       "      <th>3</th>\n",
       "      <td>palo alto unified school district high school</td>\n",
       "      <td>Congressman slams Palo Alto school district ov...</td>\n",
       "      <td>[[The country is on fire. Surely Rep Khanna ha...</td>\n",
       "    </tr>\n",
       "    <tr>\n",
       "      <th>4</th>\n",
       "      <td>palo alto unified school district high school</td>\n",
       "      <td>Palo Alto School Board - We need a change, and...</td>\n",
       "      <td>[[I'm a single issue voter here for pro gifted...</td>\n",
       "    </tr>\n",
       "    <tr>\n",
       "      <th>5</th>\n",
       "      <td>palo alto unified school district high school</td>\n",
       "      <td>East Palo Alto Schools</td>\n",
       "      <td>[[Im from EPA grew up in the 90s\\nBrings a smi...</td>\n",
       "    </tr>\n",
       "    <tr>\n",
       "      <th>6</th>\n",
       "      <td>palo alto unified school district high school</td>\n",
       "      <td>Best Palo Alto elementary schools vs Los Altos</td>\n",
       "      <td>[[PAUSD elementary schools haven't declined, t...</td>\n",
       "    </tr>\n",
       "    <tr>\n",
       "      <th>7</th>\n",
       "      <td>palo alto unified school district high school</td>\n",
       "      <td>What’s happening with parking along El Camino ...</td>\n",
       "      <td>[[[https://www.cityofpaloalto.org/Departments/...</td>\n",
       "    </tr>\n",
       "    <tr>\n",
       "      <th>8</th>\n",
       "      <td>palo alto unified school district high school</td>\n",
       "      <td>Math Policies At Palo Alto Schools</td>\n",
       "      <td>[[May I know what’s the controversy in first p...</td>\n",
       "    </tr>\n",
       "    <tr>\n",
       "      <th>9</th>\n",
       "      <td>palo alto unified school district high school</td>\n",
       "      <td>How can my kids attend Palo Alto high school</td>\n",
       "      <td>[[That address would generally qualify for Pal...</td>\n",
       "    </tr>\n",
       "  </tbody>\n",
       "</table>\n",
       "</div>"
      ],
      "text/plain": [
       "                                           query  \\\n",
       "0  palo alto unified school district high school   \n",
       "1  palo alto unified school district high school   \n",
       "2  palo alto unified school district high school   \n",
       "3  palo alto unified school district high school   \n",
       "4  palo alto unified school district high school   \n",
       "5  palo alto unified school district high school   \n",
       "6  palo alto unified school district high school   \n",
       "7  palo alto unified school district high school   \n",
       "8  palo alto unified school district high school   \n",
       "9  palo alto unified school district high school   \n",
       "\n",
       "                                               topic  \\\n",
       "0                    Palo Alto high school (or Paly)   \n",
       "1  supporting the family of Ash who our Palo Alto...   \n",
       "2  Why is it so hard to find a decent high-end ap...   \n",
       "3  Congressman slams Palo Alto school district ov...   \n",
       "4  Palo Alto School Board - We need a change, and...   \n",
       "5                             East Palo Alto Schools   \n",
       "6     Best Palo Alto elementary schools vs Los Altos   \n",
       "7  What’s happening with parking along El Camino ...   \n",
       "8                 Math Policies At Palo Alto Schools   \n",
       "9       How can my kids attend Palo Alto high school   \n",
       "\n",
       "                                              corpus  \n",
       "0  [[current paly student here! paly is pretty sa...  \n",
       "1  [[This family is grieving, and if you have not...  \n",
       "2  [[Had similar issues years back, they literall...  \n",
       "3  [[The country is on fire. Surely Rep Khanna ha...  \n",
       "4  [[I'm a single issue voter here for pro gifted...  \n",
       "5  [[Im from EPA grew up in the 90s\\nBrings a smi...  \n",
       "6  [[PAUSD elementary schools haven't declined, t...  \n",
       "7  [[[https://www.cityofpaloalto.org/Departments/...  \n",
       "8  [[May I know what’s the controversy in first p...  \n",
       "9  [[That address would generally qualify for Pal...  "
      ]
     },
     "execution_count": 34,
     "metadata": {},
     "output_type": "execute_result"
    }
   ],
   "source": [
    "# ---- Example usage ----\n",
    "df = build_df_for_query(\n",
    "    subreddit_name=subreddit_var,\n",
    "    query=query,\n",
    "    limit=LIMIT,\n",
    "    sort=\"relevance\",\n",
    "    time_filter=\"all\",\n",
    "    min_words=MIN_WORD,\n",
    "    min_score=MIN_SCORE,\n",
    ")\n",
    "\n",
    "print(df.shape)\n",
    "df.head(10)"
   ]
  },
  {
   "cell_type": "markdown",
   "id": "6f72bdb1",
   "metadata": {},
   "source": [
    "## Save Datasets\n"
   ]
  },
  {
   "cell_type": "code",
   "execution_count": 37,
   "id": "adfcae6b",
   "metadata": {},
   "outputs": [],
   "source": [
    "# create timestamp\n",
    "timestamp = datetime.now().strftime(\"%Y%m%d_%H%M%S\")"
   ]
  },
  {
   "cell_type": "code",
   "execution_count": 38,
   "id": "1caf08df",
   "metadata": {},
   "outputs": [
    {
     "name": "stdout",
     "output_type": "stream",
     "text": [
      "Saved as 20251001_011733_reddit_posts.pkl. \n"
     ]
    }
   ],
   "source": [
    "filename = f\"{timestamp}_reddit_posts.pkl\"\n",
    "df.to_pickle(dataset_folder / filename)\n",
    "print(f\"Saved as {filename}. \")"
   ]
  }
 ],
 "metadata": {
  "kernelspec": {
   "display_name": "ads509-streamlit",
   "language": "python",
   "name": "python3"
  },
  "language_info": {
   "codemirror_mode": {
    "name": "ipython",
    "version": 3
   },
   "file_extension": ".py",
   "mimetype": "text/x-python",
   "name": "python",
   "nbconvert_exporter": "python",
   "pygments_lexer": "ipython3",
   "version": "3.11.13"
  }
 },
 "nbformat": 4,
 "nbformat_minor": 5
}
