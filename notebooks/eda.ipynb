{
 "cells": [
  {
   "cell_type": "markdown",
   "id": "cd43a0cd",
   "metadata": {},
   "source": [
    "# EDA\n"
   ]
  },
  {
   "cell_type": "code",
   "execution_count": 1,
   "id": "bb1c0459",
   "metadata": {},
   "outputs": [
    {
     "name": "stderr",
     "output_type": "stream",
     "text": [
      "[nltk_data] Downloading package stopwords to /home/junc/nltk_data...\n",
      "[nltk_data]   Package stopwords is already up-to-date!\n"
     ]
    }
   ],
   "source": [
    "import pandas as pd\n",
    "from datetime import datetime\n",
    "import re\n",
    "from pathlib import Path\n",
    "from text_processing import (\n",
    "    clean_dataframe_column,\n",
    "    get_word_counts,\n",
    "    get_bigram_counts,\n",
    "    get_post_statistics,\n",
    "    save_pickle_file,\n",
    ")"
   ]
  },
  {
   "cell_type": "markdown",
   "id": "330d3b28",
   "metadata": {},
   "source": [
    "## Process datasets\n"
   ]
  },
  {
   "cell_type": "code",
   "execution_count": 2,
   "id": "934f1216",
   "metadata": {},
   "outputs": [],
   "source": [
    "dataset_folder = Path(\"../datasets\")\n",
    "datasets = {}"
   ]
  },
  {
   "cell_type": "code",
   "execution_count": 3,
   "id": "1fec21fa",
   "metadata": {},
   "outputs": [
    {
     "name": "stdout",
     "output_type": "stream",
     "text": [
      "dataset1: 79 posts\n"
     ]
    }
   ],
   "source": [
    "# Dataset 1\n",
    "filename1 = \"Palo_Alto_20251007_235943_reddit.pkl\"\n",
    "df = pd.read_pickle(dataset_folder / filename1)\n",
    "df = clean_dataframe_column(df, column=\"comments_flat\")\n",
    "df = get_post_statistics(df)\n",
    "datasets[\"dataset1\"] = df\n",
    "print(f\"dataset1: {len(df)} posts\")"
   ]
  },
  {
   "cell_type": "code",
   "execution_count": 4,
   "id": "b97a22cd",
   "metadata": {},
   "outputs": [
    {
     "name": "stdout",
     "output_type": "stream",
     "text": [
      "dataset2: 135 posts\n"
     ]
    }
   ],
   "source": [
    "# Dataset 2\n",
    "filename2 = \"Oklahoma_City_20251008_000300_reddit.pkl\"\n",
    "df = pd.read_pickle(dataset_folder / filename2)\n",
    "df = clean_dataframe_column(df, column=\"comments_flat\")\n",
    "df = get_post_statistics(df)\n",
    "datasets[\"dataset2\"] = df\n",
    "print(f\"dataset2: {len(df)} posts\")"
   ]
  },
  {
   "cell_type": "markdown",
   "id": "e9312ad4",
   "metadata": {},
   "source": [
    "## Compare statistics across datasets\n"
   ]
  },
  {
   "cell_type": "code",
   "execution_count": 5,
   "id": "0faa6a8b",
   "metadata": {},
   "outputs": [
    {
     "name": "stdout",
     "output_type": "stream",
     "text": [
      "dataset1:\n",
      "  Total posts: 79\n",
      "  Total comments: 3308\n",
      "  Average comment length: 28.2 words\n",
      "  Total tokens: 91043\n",
      "\n",
      "dataset2:\n",
      "  Total posts: 135\n",
      "  Total comments: 10010\n",
      "  Average comment length: 22.0 words\n",
      "  Total tokens: 228638\n",
      "\n"
     ]
    }
   ],
   "source": [
    "for name, df in datasets.items():\n",
    "    total_comments = df[\"cleaned_comments\"].apply(len).sum()\n",
    "    print(f\"{name}:\")\n",
    "    print(f\"  Total posts: {len(df)}\")\n",
    "    print(f\"  Total comments: {total_comments}\")\n",
    "    print(f\"  Average comment length: {df['avg_comment_length'].mean():.1f} words\")\n",
    "    print(f\"  Total tokens: {df['total_tokens'].sum()}\")\n",
    "    print()"
   ]
  },
  {
   "cell_type": "markdown",
   "id": "0c52cd05",
   "metadata": {},
   "source": [
    "## Top 5 words by dataset\n"
   ]
  },
  {
   "cell_type": "code",
   "execution_count": 6,
   "id": "dca02569",
   "metadata": {},
   "outputs": [
    {
     "name": "stdout",
     "output_type": "stream",
     "text": [
      "dataset1:\n",
      "     word  count\n",
      "0  people    775\n",
      "1    like    688\n",
      "2  school    611\n",
      "3     get    507\n",
      "4   would    487\n",
      "\n",
      "dataset2:\n",
      "     word  count\n",
      "0    like   2063\n",
      "1  people   1680\n",
      "2     one   1328\n",
      "3   would   1318\n",
      "4     get   1161\n",
      "\n"
     ]
    }
   ],
   "source": [
    "for name, df in datasets.items():\n",
    "    all_comments = []\n",
    "    for comments_list in df[\"cleaned_comments\"]:\n",
    "        all_comments.extend(comments_list)\n",
    "\n",
    "    words = get_word_counts(all_comments, top_n=5)\n",
    "    print(f\"{name}:\")\n",
    "    print(words)\n",
    "    print()"
   ]
  },
  {
   "cell_type": "markdown",
   "id": "73338822",
   "metadata": {},
   "source": [
    "### Save Datasets with Cleaned Column"
   ]
  },
  {
   "cell_type": "code",
   "execution_count": 7,
   "id": "cde27ddb",
   "metadata": {},
   "outputs": [],
   "source": [
    "def save_dataset(df, dataset_name, dataset_folder):\n",
    "    \"\"\"\n",
    "    Save a single DataFrame using the district extracted from df['query'] as filename prefix.\n",
    "    \"\"\"\n",
    "    # extract district from first query (text inside quotes)\n",
    "    if \"query\" in df.columns and not df[\"query\"].empty:\n",
    "        m = re.search(r'\"([^\"]+)\"', str(df[\"query\"].iloc[0]))\n",
    "        district = m.group(1) if m else \"unknown_district\"\n",
    "    else:\n",
    "        district = \"unknown_district\"\n",
    "\n",
    "    # sanitize\n",
    "    district = re.sub(r\"[^A-Za-z0-9_-]+\", \"_\", district)\n",
    "\n",
    "    # ensure folder\n",
    "    folder = Path(dataset_folder or \".\")\n",
    "    folder.mkdir(parents=True, exist_ok=True)\n",
    "\n",
    "    # filename\n",
    "    ts = datetime.now().strftime(\"%Y%m%d_%H%M%S\")\n",
    "    path = folder / f\"{district}_cleaned_{ts}_reddit.pkl\"\n",
    "\n",
    "    df.to_pickle(path)\n",
    "    print(f\"✅ Saved {dataset_name} → {path.name}\")\n",
    "    return path"
   ]
  },
  {
   "cell_type": "code",
   "execution_count": 8,
   "id": "09ed20a6",
   "metadata": {},
   "outputs": [
    {
     "name": "stdout",
     "output_type": "stream",
     "text": [
      "✅ Saved dataset1 → Palo_Alto_cleaned_20251008_005822_reddit.pkl\n",
      "✅ Saved dataset2 → Oklahoma_City_cleaned_20251008_005822_reddit.pkl\n"
     ]
    }
   ],
   "source": [
    "for name, dataset in datasets.items():\n",
    "    save_dataset(dataset, name, dataset_folder)"
   ]
  }
 ],
 "metadata": {
  "kernelspec": {
   "display_name": "ads509-streamlit",
   "language": "python",
   "name": "python3"
  },
  "language_info": {
   "codemirror_mode": {
    "name": "ipython",
    "version": 3
   },
   "file_extension": ".py",
   "mimetype": "text/x-python",
   "name": "python",
   "nbconvert_exporter": "python",
   "pygments_lexer": "ipython3",
   "version": "3.11.13"
  }
 },
 "nbformat": 4,
 "nbformat_minor": 5
}
