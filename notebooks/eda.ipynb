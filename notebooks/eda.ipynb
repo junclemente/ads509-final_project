{
 "cells": [
  {
   "cell_type": "markdown",
   "id": "cd43a0cd",
   "metadata": {},
   "source": [
    "# EDA"
   ]
  },
  {
   "cell_type": "code",
   "execution_count": 8,
   "id": "bb1c0459",
   "metadata": {},
   "outputs": [],
   "source": [
    "import pandas as pd\n",
    "from pathlib import Path\n",
    "from text_processing import (\n",
    "    clean_dataframe_column,\n",
    "    get_word_counts,\n",
    "    get_bigram_counts,\n",
    "    get_post_statistics\n",
    ")\n"
   ]
  },
  {
   "cell_type": "markdown",
   "id": "330d3b28",
   "metadata": {},
   "source": [
    "## Process datasets"
   ]
  },
  {
   "cell_type": "code",
   "execution_count": 32,
   "id": "934f1216",
   "metadata": {},
   "outputs": [],
   "source": [
    "dataset_folder = Path(\"../datasets\")\n",
    "datasets = {}"
   ]
  },
  {
   "cell_type": "code",
   "execution_count": 33,
   "id": "1fec21fa",
   "metadata": {},
   "outputs": [
    {
     "name": "stdout",
     "output_type": "stream",
     "text": [
      "dataset1: 78 posts\n"
     ]
    }
   ],
   "source": [
    "#Dataset 1\n",
    "df= df = pd.read_pickle(dataset_folder / \"20251004_065231_reddit_posts.pkl\")\n",
    "df= clean_dataframe_column(df, column='comments_flat')\n",
    "df= get_post_statistics(df)\n",
    "datasets['dataset1'] = df\n",
    "print(f\"dataset1: {len(df)} posts\")\n"
   ]
  },
  {
   "cell_type": "code",
   "execution_count": 34,
   "id": "b97a22cd",
   "metadata": {},
   "outputs": [
    {
     "name": "stdout",
     "output_type": "stream",
     "text": [
      "dataset2: 78 posts\n"
     ]
    }
   ],
   "source": [
    "#Dataset 2\n",
    "df= df = pd.read_pickle(dataset_folder / \"20251004_063950_reddit_posts.pkl\")\n",
    "df= clean_dataframe_column(df, column='comments_flat')\n",
    "df= get_post_statistics(df)\n",
    "datasets['dataset12'] = df\n",
    "print(f\"dataset2: {len(df)} posts\")"
   ]
  },
  {
   "cell_type": "code",
   "execution_count": 35,
   "id": "86769039",
   "metadata": {},
   "outputs": [
    {
     "name": "stdout",
     "output_type": "stream",
     "text": [
      "dataset3: 78 posts\n"
     ]
    }
   ],
   "source": [
    "# Dataset 3\n",
    "df = pd.read_pickle(dataset_folder / \"20251001_173930_reddit_posts.pkl\")\n",
    "df = clean_dataframe_column(df, column='flat_corpus')\n",
    "df = get_post_statistics(df)\n",
    "datasets['dataset3'] = df\n",
    "print(f\"dataset3: {len(df)} posts\")"
   ]
  },
  {
   "cell_type": "code",
   "execution_count": 36,
   "id": "14b6786c",
   "metadata": {},
   "outputs": [
    {
     "name": "stdout",
     "output_type": "stream",
     "text": [
      " dataset4: 91 posts\n"
     ]
    }
   ],
   "source": [
    "# Dataset 4\n",
    "df = pd.read_pickle(dataset_folder / \"20251001_011733_reddit_posts.pkl\")\n",
    "flat_comments_list = []\n",
    "\n",
    "#Flatten the nested lists in the 'corpus' column\n",
    "for corpus in df['corpus']:\n",
    "    flat_row = []\n",
    "\n",
    "    for item in corpus:\n",
    "        if isinstance(item, list):\n",
    "            if len(item) > 0:\n",
    "                flat_row.append(item[0])\n",
    "        else:\n",
    "            flat_row.append(item)\n",
    "    \n",
    "    flat_comments_list.append(flat_row)\n",
    "\n",
    "#Add the flattened comments as a new column\n",
    "df['flat_corpus'] = flat_comments_list\n",
    "\n",
    "df = clean_dataframe_column(df, column='flat_corpus')\n",
    "df = get_post_statistics(df)\n",
    "datasets['dataset4'] = df\n",
    "print(f\" dataset4: {len(df)} posts\")"
   ]
  },
  {
   "cell_type": "markdown",
   "id": "e9312ad4",
   "metadata": {},
   "source": [
    "## Compare statistics across datasets"
   ]
  },
  {
   "cell_type": "code",
   "execution_count": 37,
   "id": "0faa6a8b",
   "metadata": {},
   "outputs": [
    {
     "name": "stdout",
     "output_type": "stream",
     "text": [
      "dataset1:\n",
      "  Total posts: 78\n",
      "  Total comments: 3263\n",
      "  Average comment length: 27.9 words\n",
      "  Total tokens: 89127\n",
      "\n",
      "dataset12:\n",
      "  Total posts: 78\n",
      "  Total comments: 3263\n",
      "  Average comment length: 27.9 words\n",
      "  Total tokens: 89127\n",
      "\n",
      "dataset3:\n",
      "  Total posts: 78\n",
      "  Total comments: 3243\n",
      "  Average comment length: 27.9 words\n",
      "  Total tokens: 89139\n",
      "\n",
      "dataset4:\n",
      "  Total posts: 91\n",
      "  Total comments: 457\n",
      "  Average comment length: 35.8 words\n",
      "  Total tokens: 17498\n",
      "\n"
     ]
    }
   ],
   "source": [
    "for name, df in datasets.items():\n",
    "    total_comments = df['cleaned_comments'].apply(len).sum()\n",
    "    print(f\"{name}:\")\n",
    "    print(f\"  Total posts: {len(df)}\")\n",
    "    print(f\"  Total comments: {total_comments}\")\n",
    "    print(f\"  Average comment length: {df['avg_comment_length'].mean():.1f} words\")\n",
    "    print(f\"  Total tokens: {df['total_tokens'].sum()}\")\n",
    "    print()"
   ]
  },
  {
   "cell_type": "markdown",
   "id": "0c52cd05",
   "metadata": {},
   "source": [
    "## Top 5 words by dataset "
   ]
  },
  {
   "cell_type": "code",
   "execution_count": 31,
   "id": "dca02569",
   "metadata": {},
   "outputs": [
    {
     "name": "stdout",
     "output_type": "stream",
     "text": [
      "dataset1:\n",
      "     word  count\n",
      "0  people    744\n",
      "1    like    679\n",
      "2  school    593\n",
      "3     get    501\n",
      "4   would    443\n",
      "\n",
      "dataset12:\n",
      "     word  count\n",
      "0  people    744\n",
      "1    like    679\n",
      "2  school    593\n",
      "3     get    501\n",
      "4   would    443\n",
      "\n",
      "dataset3:\n",
      "     word  count\n",
      "0  people    755\n",
      "1    like    683\n",
      "2  school    601\n",
      "3     get    503\n",
      "4   would    448\n",
      "\n",
      "dataset4:\n",
      "     word  count\n",
      "0  school    218\n",
      "1    palo    209\n",
      "2    alto    204\n",
      "3    kids    142\n",
      "4  people    109\n",
      "\n"
     ]
    }
   ],
   "source": [
    "for name, df in datasets.items():\n",
    "    all_comments = []\n",
    "    for comments_list in df['cleaned_comments']:\n",
    "        all_comments.extend(comments_list)\n",
    "    \n",
    "    words = get_word_counts(all_comments, top_n=5)\n",
    "    print(f\"{name}:\")\n",
    "    print(words)\n",
    "    print()"
   ]
  }
 ],
 "metadata": {
  "kernelspec": {
   "display_name": "ads509-streamlit",
   "language": "python",
   "name": "python3"
  },
  "language_info": {
   "codemirror_mode": {
    "name": "ipython",
    "version": 3
   },
   "file_extension": ".py",
   "mimetype": "text/x-python",
   "name": "python",
   "nbconvert_exporter": "python",
   "pygments_lexer": "ipython3",
   "version": "3.11.13"
  }
 },
 "nbformat": 4,
 "nbformat_minor": 5
}
