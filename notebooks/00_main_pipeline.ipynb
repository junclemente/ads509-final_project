{
 "cells": [
  {
   "cell_type": "markdown",
   "id": "c586a030",
   "metadata": {},
   "source": [
    "# Main Pipeline Notebook\n"
   ]
  },
  {
   "cell_type": "code",
   "execution_count": 1,
   "id": "bfafb0a4",
   "metadata": {},
   "outputs": [
    {
     "name": "stdout",
     "output_type": "stream",
     "text": [
      "Stored 'IS_PIPELINE_RUN' (bool)\n",
      "Stored 'IS_PIPELINE_TEST' (bool)\n"
     ]
    }
   ],
   "source": [
    "IS_PIPELINE_RUN = True\n",
    "%store IS_PIPELINE_RUN\n",
    "\n",
    "IS_PIPELINE_TEST = True \n",
    "%store IS_PIPELINE_TEST"
   ]
  },
  {
   "cell_type": "code",
   "execution_count": 2,
   "id": "775e2634",
   "metadata": {},
   "outputs": [],
   "source": [
    "from pathlib import Path"
   ]
  },
  {
   "cell_type": "markdown",
   "id": "d3ab8ca2",
   "metadata": {},
   "source": [
    "## Data Acquisition"
   ]
  },
  {
   "cell_type": "code",
   "execution_count": 3,
   "id": "84481c39",
   "metadata": {},
   "outputs": [],
   "source": [
    "# set dataset folder location\n",
    "dataset_folder = Path(\"../datasets\")"
   ]
  },
  {
   "cell_type": "code",
   "execution_count": 4,
   "id": "865b5b62",
   "metadata": {},
   "outputs": [
    {
     "name": "stdout",
     "output_type": "stream",
     "text": [
      "Performing data acquisition.\n"
     ]
    },
    {
     "name": "stderr",
     "output_type": "stream",
     "text": [
      "[nltk_data] Downloading package stopwords to /home/junc/nltk_data...\n",
      "[nltk_data]   Package stopwords is already up-to-date!\n"
     ]
    },
    {
     "name": "stdout",
     "output_type": "stream",
     "text": [
      "Authenticated as: None\n",
      "Saved as Palo_Alto. \n",
      "../datasets/Palo_Alto_pipeline_reddit.pkl\n",
      "Saved as Oklahoma_City. \n",
      "../datasets/Oklahoma_City_pipeline_reddit.pkl\n"
     ]
    }
   ],
   "source": [
    "print(\"Performing data acquisition.\")\n",
    "%run ./01_data_scraping_reddit.ipynb"
   ]
  }
 ],
 "metadata": {
  "kernelspec": {
   "display_name": "ads509-streamlit",
   "language": "python",
   "name": "python3"
  },
  "language_info": {
   "codemirror_mode": {
    "name": "ipython",
    "version": 3
   },
   "file_extension": ".py",
   "mimetype": "text/x-python",
   "name": "python",
   "nbconvert_exporter": "python",
   "pygments_lexer": "ipython3",
   "version": "3.11.13"
  }
 },
 "nbformat": 4,
 "nbformat_minor": 5
}
